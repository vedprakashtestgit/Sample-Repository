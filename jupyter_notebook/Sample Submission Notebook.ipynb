{
 "cells": [
  {
   "cell_type": "code",
   "execution_count": 1,
   "id": "f863f743",
   "metadata": {},
   "outputs": [],
   "source": [
    "# import your libraries\n",
    "import pandas as pd\n",
    "import numpy as np\n",
    "import matplotlib.pyplot as plt\n",
    "import seaborn as sns\n",
    "\n",
    "import pickle"
   ]
  },
  {
   "cell_type": "code",
   "execution_count": 2,
   "id": "ef6ce3b4",
   "metadata": {},
   "outputs": [],
   "source": [
    "import os"
   ]
  },
  {
   "cell_type": "code",
   "execution_count": 37,
   "id": "3a96b8bb",
   "metadata": {},
   "outputs": [
    {
     "data": {
      "text/plain": [
       "['jupyter_notebook',\n",
       " 'reports',\n",
       " '.git',\n",
       " 'data',\n",
       " 'images',\n",
       " 'README.md',\n",
       " 'models',\n",
       " 'scripts']"
      ]
     },
     "execution_count": 37,
     "metadata": {},
     "output_type": "execute_result"
    }
   ],
   "source": [
    "os.listdir('../')"
   ]
  },
  {
   "cell_type": "code",
   "execution_count": 8,
   "id": "a73d1c8f",
   "metadata": {},
   "outputs": [],
   "source": [
    "raw_df = pd.read_csv('../data/day.csv')"
   ]
  },
  {
   "cell_type": "code",
   "execution_count": null,
   "id": "9b386cf5",
   "metadata": {},
   "outputs": [],
   "source": [
    "# Summarization of your Data"
   ]
  },
  {
   "cell_type": "code",
   "execution_count": 9,
   "id": "7d94e009",
   "metadata": {},
   "outputs": [
    {
     "data": {
      "text/plain": [
       "Index(['instant', 'dteday', 'season', 'yr', 'mnth', 'holiday', 'weekday',\n",
       "       'workingday', 'weathersit', 'temp', 'atemp', 'hum', 'windspeed',\n",
       "       'casual', 'registered', 'cnt'],\n",
       "      dtype='object')"
      ]
     },
     "execution_count": 9,
     "metadata": {},
     "output_type": "execute_result"
    }
   ],
   "source": [
    "raw_df.columns"
   ]
  },
  {
   "cell_type": "code",
   "execution_count": null,
   "id": "de816adf",
   "metadata": {},
   "outputs": [],
   "source": [
    "# EDA --> Descriptive and Diagnostic Analysis"
   ]
  },
  {
   "cell_type": "code",
   "execution_count": null,
   "id": "b4199185",
   "metadata": {},
   "outputs": [],
   "source": [
    "# Descriptive Statistics\n",
    "\n",
    "# create charts and plots\n",
    "# univariate --> analysis on one variable\n",
    "# bi-variate --> analysis with two or more varriable"
   ]
  },
  {
   "cell_type": "code",
   "execution_count": 14,
   "id": "312ffd8f",
   "metadata": {},
   "outputs": [
    {
     "name": "stderr",
     "output_type": "stream",
     "text": [
      "/home/ved/anaconda3/lib/python3.8/site-packages/seaborn/_decorators.py:36: FutureWarning: Pass the following variable as a keyword arg: x. From version 0.12, the only valid positional argument will be `data`, and passing other arguments without an explicit keyword will result in an error or misinterpretation.\n",
      "  warnings.warn(\n"
     ]
    },
    {
     "data": {
      "image/png": "[encoded data removed]",
      "text/plain": [
       "<Figure size 576x432 with 1 Axes>"
      ]
     },
     "metadata": {
      "needs_background": "light"
     },
     "output_type": "display_data"
    }
   ],
   "source": [
    "plt.figure(figsize=(8,6))\n",
    "sns.countplot('season',data=raw_df,hue='yr')\n",
    "plt.title(\"Countplot of seasons with different year\")\n",
    "plt.savefig('../images/countplot_seasons_years.jpg')"
   ]
  },
  {
   "cell_type": "markdown",
   "id": "f13c1150",
   "metadata": {},
   "source": [
    "### Inferences\n",
    "\n",
    "*  There are most no. of observations for 3rd season."
   ]
  },
  {
   "cell_type": "code",
   "execution_count": null,
   "id": "5764c6e0",
   "metadata": {},
   "outputs": [],
   "source": [
    "# Decide on some questions that you want to explore and accordingly do the the analysis"
   ]
  },
  {
   "cell_type": "code",
   "execution_count": 16,
   "id": "1518adaf",
   "metadata": {},
   "outputs": [
    {
     "data": {
      "text/plain": [
       "season  yr\n",
       "1       0     1666.666667\n",
       "        1     3550.155556\n",
       "2       0     3775.173913\n",
       "        1     6209.489130\n",
       "3       0     4464.361702\n",
       "        1     6824.244681\n",
       "4       0     3664.460674\n",
       "        1     5791.865169\n",
       "Name: cnt, dtype: float64"
      ]
     },
     "execution_count": 16,
     "metadata": {},
     "output_type": "execute_result"
    }
   ],
   "source": [
    "# What kind of season has most demand of bikes.\n",
    "raw_df.groupby([\"season\",\"yr\"])[\"cnt\"].mean()"
   ]
  },
  {
   "cell_type": "markdown",
   "id": "5739ce6c",
   "metadata": {},
   "source": [
    "## Data Cleaning or Data Preparation part \n",
    " * Data Consistency\n",
    " * Handling Missing Values\n",
    " * Outlier Analysis /Treating outlier values\n",
    " * Scaling of data\n",
    " * Feature Engineering\n",
    " \n",
    " "
   ]
  },
  {
   "cell_type": "code",
   "execution_count": 17,
   "id": "ca94ee38",
   "metadata": {},
   "outputs": [],
   "source": [
    "df = raw_df.copy(deep=True)"
   ]
  },
  {
   "cell_type": "code",
   "execution_count": 18,
   "id": "7fb6f0ae",
   "metadata": {},
   "outputs": [],
   "source": [
    "df = df.drop_duplicates()"
   ]
  },
  {
   "cell_type": "code",
   "execution_count": 19,
   "id": "ec7e5004",
   "metadata": {},
   "outputs": [],
   "source": [
    "df.dropna(inplace=True)"
   ]
  },
  {
   "cell_type": "code",
   "execution_count": 20,
   "id": "ca657069",
   "metadata": {},
   "outputs": [
    {
     "data": {
      "text/plain": [
       "Index(['instant', 'dteday', 'season', 'yr', 'mnth', 'holiday', 'weekday',\n",
       "       'workingday', 'weathersit', 'temp', 'atemp', 'hum', 'windspeed',\n",
       "       'casual', 'registered', 'cnt'],\n",
       "      dtype='object')"
      ]
     },
     "execution_count": 20,
     "metadata": {},
     "output_type": "execute_result"
    }
   ],
   "source": [
    "df.columns"
   ]
  },
  {
   "cell_type": "code",
   "execution_count": null,
   "id": "179528f8",
   "metadata": {},
   "outputs": [],
   "source": [
    "## Feature Selection"
   ]
  },
  {
   "cell_type": "code",
   "execution_count": 21,
   "id": "31124b91",
   "metadata": {},
   "outputs": [],
   "source": [
    "predictor_columns = ['season', 'yr', 'mnth', 'holiday', 'weekday',\n",
    "       'workingday', 'weathersit', 'temp', 'atemp', 'hum', 'windspeed',\n",
    "       'casual', 'registered']\n",
    "target_columns = ['cnt']"
   ]
  },
  {
   "cell_type": "code",
   "execution_count": 22,
   "id": "9cbac16c",
   "metadata": {},
   "outputs": [],
   "source": [
    "X = df[predictor_columns]\n",
    "y = df[target_columns]\n"
   ]
  },
  {
   "cell_type": "code",
   "execution_count": null,
   "id": "938e8b9b",
   "metadata": {},
   "outputs": [],
   "source": [
    "# Spliting Data Sets"
   ]
  },
  {
   "cell_type": "code",
   "execution_count": 23,
   "id": "b75aaa23",
   "metadata": {},
   "outputs": [],
   "source": [
    "from sklearn.model_selection import train_test_split\n",
    "X_train, X_test, y_train, y_test = train_test_split(X,y,test_size=0.20, random_state=42)"
   ]
  },
  {
   "cell_type": "code",
   "execution_count": 24,
   "id": "9799c412",
   "metadata": {},
   "outputs": [
    {
     "data": {
      "text/plain": [
       "((584, 13), (146, 13), (584, 1), (146, 1))"
      ]
     },
     "execution_count": 24,
     "metadata": {},
     "output_type": "execute_result"
    }
   ],
   "source": [
    "X_train.shape, X_test.shape, y_train.shape, y_test.shape"
   ]
  },
  {
   "cell_type": "code",
   "execution_count": 25,
   "id": "c9af12ab",
   "metadata": {},
   "outputs": [],
   "source": [
    "from sklearn import linear_model\n",
    "reg = linear_model.LinearRegression()"
   ]
  },
  {
   "cell_type": "code",
   "execution_count": 27,
   "id": "7d839245",
   "metadata": {},
   "outputs": [],
   "source": [
    "model = reg.fit(X_train,y_train)"
   ]
  },
  {
   "cell_type": "code",
   "execution_count": 28,
   "id": "b53abbe4",
   "metadata": {},
   "outputs": [
    {
     "data": {
      "text/plain": [
       "array([[ 2.41550601e-13, -6.55673237e-13,  7.24549497e-14,\n",
       "         3.94914257e-13, -7.62456976e-15, -6.38690593e-13,\n",
       "         4.54566396e-13, -3.32457435e-14,  2.95269506e-14,\n",
       "        -5.24283793e-15,  7.50014075e-15,  1.00000000e+00,\n",
       "         1.00000000e+00]])"
      ]
     },
     "execution_count": 28,
     "metadata": {},
     "output_type": "execute_result"
    }
   ],
   "source": [
    "model.coef_"
   ]
  },
  {
   "cell_type": "code",
   "execution_count": 29,
   "id": "dffb43e3",
   "metadata": {},
   "outputs": [
    {
     "data": {
      "text/plain": [
       "array([9.09494702e-13])"
      ]
     },
     "execution_count": 29,
     "metadata": {},
     "output_type": "execute_result"
    }
   ],
   "source": [
    "model.intercept_"
   ]
  },
  {
   "cell_type": "code",
   "execution_count": 31,
   "id": "195d2b43",
   "metadata": {},
   "outputs": [],
   "source": [
    "y_train_pred = model.predict(X_train)"
   ]
  },
  {
   "cell_type": "code",
   "execution_count": 32,
   "id": "2019e4a6",
   "metadata": {},
   "outputs": [],
   "source": [
    "y_test_pred = model.predict(X_test)"
   ]
  },
  {
   "cell_type": "code",
   "execution_count": null,
   "id": "c1f79cf2",
   "metadata": {},
   "outputs": [],
   "source": [
    "# Evaluate your model\n",
    "\n",
    "* import necessary metrics\n",
    "mae,mse,rmse,r2_score."
   ]
  },
  {
   "cell_type": "code",
   "execution_count": 34,
   "id": "301ec571",
   "metadata": {},
   "outputs": [],
   "source": [
    "import joblib"
   ]
  },
  {
   "cell_type": "code",
   "execution_count": 38,
   "id": "667bf6bb",
   "metadata": {},
   "outputs": [
    {
     "data": {
      "text/plain": [
       "['../models/bike-sharing-model.joblib']"
      ]
     },
     "execution_count": 38,
     "metadata": {},
     "output_type": "execute_result"
    }
   ],
   "source": [
    "joblib.dump(model,\"../models/bike-sharing-model.joblib\")"
   ]
  },
  {
   "cell_type": "code",
   "execution_count": null,
   "id": "bf520600",
   "metadata": {},
   "outputs": [],
   "source": []
  }
 ],
 "metadata": {
  "kernelspec": {
   "display_name": "Python 3",
   "language": "python",
   "name": "python3"
  },
  "language_info": {
   "codemirror_mode": {
    "name": "ipython",
    "version": 3
   },
   "file_extension": ".py",
   "mimetype": "text/x-python",
   "name": "python",
   "nbconvert_exporter": "python",
   "pygments_lexer": "ipython3",
   "version": "3.8.8"
  }
 },
 "nbformat": 4,
 "nbformat_minor": 5
}
